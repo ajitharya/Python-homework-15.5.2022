{
 "cells": [
  {
   "cell_type": "markdown",
   "id": "3cfd0fa1",
   "metadata": {},
   "source": [
    "# s = \"this is My First Python programming class and i am learNING python string and its function\"\n",
    "1 . Try to extract data from index one to index 300 with a jump of 3 \n",
    "2. Try to reverse a string without using reverse function \n",
    "3. Try to split a string after conversion of entire string in uppercase \n",
    "4. try to convert the whole string into lower case \n",
    "5 . Try to capitalize the whole string \n",
    "6 . Write a diference between isalnum() and isalpha()\n",
    "7. Try to give an example of expand tab\n",
    "8 . Give an example of strip , lstrip and rstrip \n",
    "9.  Replace a string charecter by another charector by taking your own example \n",
    "\"sudhanshu\"\n",
    "10 . Try  to give a defination of string center function with and exmple \n",
    "11 . Write your own definition of compiler and interpretor without copy paste form internet in your own language\n",
    "12 . Python is a interpreted of compiled language give a clear ans with your understanding \n",
    "13 . Try to write a usecase of python with your understanding .\n",
    "\n",
    "\n",
    "you have to send a jupyter notebook to shivan@ineuron.ai before next saturday class 21st of may ."
   ]
  },
  {
   "cell_type": "markdown",
   "id": "1caf01d1",
   "metadata": {},
   "source": [
    "1 . Try to extract data from index one to index 300 with a jump of 3 "
   ]
  },
  {
   "cell_type": "code",
   "execution_count": 4,
   "id": "739c396a",
   "metadata": {},
   "outputs": [],
   "source": [
    "s = \"this is My First Python programming class and i am learNING python string and its function\""
   ]
  },
  {
   "cell_type": "code",
   "execution_count": 6,
   "id": "b322f12e",
   "metadata": {},
   "outputs": [
    {
     "data": {
      "text/plain": [
       "'h   r tnrrmglsnimeNGyosi dtfco'"
      ]
     },
     "execution_count": 6,
     "metadata": {},
     "output_type": "execute_result"
    }
   ],
   "source": [
    "s[1:300:3]"
   ]
  },
  {
   "cell_type": "markdown",
   "id": "4d5de595",
   "metadata": {},
   "source": [
    "2. Try to reverse a string without using reverse function "
   ]
  },
  {
   "cell_type": "code",
   "execution_count": 7,
   "id": "a1bee2bd",
   "metadata": {},
   "outputs": [
    {
     "data": {
      "text/plain": [
       "'noitcnuf sti dna gnirts nohtyp GNINrael ma i dna ssalc gnimmargorp nohtyP tsriF yM si siht'"
      ]
     },
     "execution_count": 7,
     "metadata": {},
     "output_type": "execute_result"
    }
   ],
   "source": [
    "s[::-1]"
   ]
  },
  {
   "cell_type": "markdown",
   "id": "d73e4ee8",
   "metadata": {},
   "source": [
    "3. Try to split a string after conversion of entire string in uppercase "
   ]
  },
  {
   "cell_type": "code",
   "execution_count": 28,
   "id": "59f1d85f",
   "metadata": {},
   "outputs": [
    {
     "data": {
      "text/plain": [
       "'THIS IS MY FIRST PYTHON PROGRAMMING CLASS AND I AM LEARNING PYTHON STRING AND ITS FUNCTION'"
      ]
     },
     "execution_count": 28,
     "metadata": {},
     "output_type": "execute_result"
    }
   ],
   "source": [
    "s.upper()"
   ]
  },
  {
   "cell_type": "code",
   "execution_count": 43,
   "id": "c186a9a1",
   "metadata": {},
   "outputs": [],
   "source": [
    "s1 = s.upper()"
   ]
  },
  {
   "cell_type": "code",
   "execution_count": 44,
   "id": "67d15f3c",
   "metadata": {},
   "outputs": [
    {
     "data": {
      "text/plain": [
       "['THIS',\n",
       " 'IS',\n",
       " 'MY',\n",
       " 'FIRST',\n",
       " 'PYTHON',\n",
       " 'PROGRAMMING',\n",
       " 'CLASS',\n",
       " 'AND',\n",
       " 'I',\n",
       " 'AM',\n",
       " 'LEARNING',\n",
       " 'PYTHON',\n",
       " 'STRING',\n",
       " 'AND',\n",
       " 'ITS',\n",
       " 'FUNCTION']"
      ]
     },
     "execution_count": 44,
     "metadata": {},
     "output_type": "execute_result"
    }
   ],
   "source": [
    "s1.split()"
   ]
  },
  {
   "cell_type": "markdown",
   "id": "1a186004",
   "metadata": {},
   "source": [
    "4. try to convert the whole string into lower case "
   ]
  },
  {
   "cell_type": "code",
   "execution_count": 45,
   "id": "2f7c8bba",
   "metadata": {},
   "outputs": [
    {
     "data": {
      "text/plain": [
       "'this is my first python programming class and i am learning python string and its function'"
      ]
     },
     "execution_count": 45,
     "metadata": {},
     "output_type": "execute_result"
    }
   ],
   "source": [
    "s.lower()"
   ]
  },
  {
   "cell_type": "markdown",
   "id": "382a7abe",
   "metadata": {},
   "source": [
    "5 . Try to capitalize the whole string "
   ]
  },
  {
   "cell_type": "code",
   "execution_count": 54,
   "id": "2bac9484",
   "metadata": {},
   "outputs": [
    {
     "data": {
      "text/plain": [
       "'This is my first python programming class and i am learning python string and its function'"
      ]
     },
     "execution_count": 54,
     "metadata": {},
     "output_type": "execute_result"
    }
   ],
   "source": [
    "s.capitalize()"
   ]
  },
  {
   "cell_type": "markdown",
   "id": "3dfe1d92",
   "metadata": {},
   "source": [
    "6 . Write a diference between isalnum() and isalpha()"
   ]
  },
  {
   "cell_type": "code",
   "execution_count": null,
   "id": "07d266b9",
   "metadata": {},
   "outputs": [],
   "source": [
    "# isalpha() = true if all values are in alphabet , or else false\n",
    "# isalnum() = true either its only number or alphabet or both combination together."
   ]
  },
  {
   "cell_type": "markdown",
   "id": "670908e5",
   "metadata": {},
   "source": [
    "7. Try to give an example of expand tab"
   ]
  },
  {
   "cell_type": "code",
   "execution_count": 75,
   "id": "036df8ae",
   "metadata": {},
   "outputs": [],
   "source": [
    "sm = \"Ajith\\tKumar\\tM\""
   ]
  },
  {
   "cell_type": "code",
   "execution_count": 76,
   "id": "1e8e89dd",
   "metadata": {},
   "outputs": [
    {
     "data": {
      "text/plain": [
       "'Ajith   Kumar   M'"
      ]
     },
     "execution_count": 76,
     "metadata": {},
     "output_type": "execute_result"
    }
   ],
   "source": [
    "sm.expandtabs()"
   ]
  },
  {
   "cell_type": "markdown",
   "id": "97f06703",
   "metadata": {},
   "source": [
    "8 . Give an example of strip , lstrip and rstrip "
   ]
  },
  {
   "cell_type": "code",
   "execution_count": 81,
   "id": "420b897d",
   "metadata": {},
   "outputs": [],
   "source": [
    "sn = \"$$$$$AjithkumarM#####\""
   ]
  },
  {
   "cell_type": "code",
   "execution_count": 85,
   "id": "2e90189d",
   "metadata": {},
   "outputs": [
    {
     "data": {
      "text/plain": [
       "'AjithkumarM'"
      ]
     },
     "execution_count": 85,
     "metadata": {},
     "output_type": "execute_result"
    }
   ],
   "source": [
    "sn.strip(\"$\"\"#\")"
   ]
  },
  {
   "cell_type": "code",
   "execution_count": 90,
   "id": "12fc4f43",
   "metadata": {},
   "outputs": [
    {
     "data": {
      "text/plain": [
       "'AjithkumarM#####'"
      ]
     },
     "execution_count": 90,
     "metadata": {},
     "output_type": "execute_result"
    }
   ],
   "source": [
    "sn.lstrip('$')"
   ]
  },
  {
   "cell_type": "code",
   "execution_count": 91,
   "id": "841aae15",
   "metadata": {},
   "outputs": [
    {
     "data": {
      "text/plain": [
       "'$$$$$AjithkumarM'"
      ]
     },
     "execution_count": 91,
     "metadata": {},
     "output_type": "execute_result"
    }
   ],
   "source": [
    "sn.rstrip('#')"
   ]
  },
  {
   "cell_type": "markdown",
   "id": "58d171c1",
   "metadata": {},
   "source": [
    "9.  Replace a string charecter by another charector by taking your own example "
   ]
  },
  {
   "cell_type": "code",
   "execution_count": 110,
   "id": "8b53f4d6",
   "metadata": {},
   "outputs": [
    {
     "data": {
      "text/plain": [
       "'this is My First Python programming class and i am learNING python string and its function'"
      ]
     },
     "execution_count": 110,
     "metadata": {},
     "output_type": "execute_result"
    }
   ],
   "source": [
    "s"
   ]
  },
  {
   "cell_type": "code",
   "execution_count": 116,
   "id": "006358a9",
   "metadata": {},
   "outputs": [
    {
     "data": {
      "text/plain": [
       "'this is My Second Python programming class and i am learNING python string and its function'"
      ]
     },
     "execution_count": 116,
     "metadata": {},
     "output_type": "execute_result"
    }
   ],
   "source": [
    "s.replace('First' , 'Second')"
   ]
  },
  {
   "cell_type": "markdown",
   "id": "4b36ec0d",
   "metadata": {},
   "source": [
    "10 . Try  to give a defination of string center function with and exmple "
   ]
  },
  {
   "cell_type": "code",
   "execution_count": null,
   "id": "ec7afff4",
   "metadata": {},
   "outputs": [],
   "source": [
    "#It keeps string in middle of total value"
   ]
  },
  {
   "cell_type": "code",
   "execution_count": 122,
   "id": "89b4fcf4",
   "metadata": {},
   "outputs": [],
   "source": [
    "sl = 'Ineuron is best'"
   ]
  },
  {
   "cell_type": "code",
   "execution_count": 123,
   "id": "e29b12c4",
   "metadata": {},
   "outputs": [
    {
     "data": {
      "text/plain": [
       "'**Ineuron is best***'"
      ]
     },
     "execution_count": 123,
     "metadata": {},
     "output_type": "execute_result"
    }
   ],
   "source": [
    "sl.center(20,'*')"
   ]
  },
  {
   "cell_type": "markdown",
   "id": "35c28c22",
   "metadata": {},
   "source": [
    "11 . Write your own definition of compiler and interpretor without copy paste form internet in your own language"
   ]
  },
  {
   "cell_type": "code",
   "execution_count": null,
   "id": "4ace33b3",
   "metadata": {},
   "outputs": [],
   "source": [
    "#Compiler shows all errors and warnings in same time where in Interpretor , shows one error at a time\n",
    "#Compiler Error occurs after scanning whole program where in Interpretor , Error occurs after scanning each line."
   ]
  },
  {
   "cell_type": "markdown",
   "id": "b8b70030",
   "metadata": {},
   "source": [
    "12 . Python is a interpreted of compiled language give a clear ans with your understanding "
   ]
  },
  {
   "cell_type": "code",
   "execution_count": null,
   "id": "1644abe3",
   "metadata": {},
   "outputs": [],
   "source": [
    "#Translate source code and create binary code but it is not machine code .\n",
    "#Python vitual machine read binary code and translate to machine code so that machine can understand."
   ]
  },
  {
   "cell_type": "markdown",
   "id": "89d7b2fa",
   "metadata": {},
   "source": [
    "13 . Try to write a usecase of python with your understanding ."
   ]
  },
  {
   "cell_type": "markdown",
   "id": "bc06a4e4",
   "metadata": {},
   "source": [
    "1.Data science \n",
    "2.Software development\n",
    "3. Artificial intelligence and machine learning.\n",
    "4. Game development , mobile application\n",
    "5. Face recognistion\n",
    "6.Automation\n"
   ]
  }
 ],
 "metadata": {
  "kernelspec": {
   "display_name": "Python 3 (ipykernel)",
   "language": "python",
   "name": "python3"
  },
  "language_info": {
   "codemirror_mode": {
    "name": "ipython",
    "version": 3
   },
   "file_extension": ".py",
   "mimetype": "text/x-python",
   "name": "python",
   "nbconvert_exporter": "python",
   "pygments_lexer": "ipython3",
   "version": "3.9.7"
  }
 },
 "nbformat": 4,
 "nbformat_minor": 5
}
